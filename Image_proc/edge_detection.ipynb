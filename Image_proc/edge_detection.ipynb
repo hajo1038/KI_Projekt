{
 "cells": [
  {
   "cell_type": "code",
   "execution_count": 1,
   "id": "e805841d",
   "metadata": {},
   "outputs": [],
   "source": [
    "import cv2\n",
    "import math\n",
    "import numpy as np\n",
    "import matplotlib.pylab as plt\n",
    "from glob import glob"
   ]
  },
  {
   "cell_type": "code",
   "execution_count": 2,
   "id": "e77f33ea",
   "metadata": {},
   "outputs": [],
   "source": [
    "images_list = glob(r\"../data/*.png\")\n",
    "#image = cv2.imread(images_list[30])\n",
    "image = cv2.imread(r\"..\\data\\IMG_3850.png\")\n",
    "gray = cv2.cvtColor(image, cv2.COLOR_BGR2GRAY)\n",
    "blurred = cv2.GaussianBlur(gray, (5, 5), 0)"
   ]
  },
  {
   "cell_type": "code",
   "execution_count": 3,
   "id": "4d15b9d2",
   "metadata": {
    "scrolled": false
   },
   "outputs": [],
   "source": [
    "def auto_canny_edge_detection(image, sigma=0.33):\n",
    "    md = np.median(image)\n",
    "    lower_value = int(max(0, (1.0-sigma) * md))\n",
    "    upper_value = int(min(255, (1.0+sigma) * md))\n",
    "    return cv2.Canny(image, lower_value, upper_value)"
   ]
  },
  {
   "cell_type": "code",
   "execution_count": 4,
   "id": "d35e8407",
   "metadata": {},
   "outputs": [],
   "source": [
    "auto_edge = auto_canny_edge_detection(blurred)\n",
    "# Copy edges to the images that will display the results in BGR\n",
    "image_with_lines = cv2.cvtColor(auto_edge, cv2.COLOR_GRAY2BGR)"
   ]
  },
  {
   "cell_type": "code",
   "execution_count": 5,
   "id": "88af7e47",
   "metadata": {},
   "outputs": [],
   "source": [
    "# Probabilistic Line Transform\n",
    "linesP = cv2.HoughLinesP(auto_edge, 1, np.pi / 180, 20, 3, 2, 10)\n",
    "# Draw the lines\n",
    "if linesP is not None:\n",
    "    for i in range(0, len(linesP)):\n",
    "        l = linesP[i][0]\n",
    "        cv2.line(image_with_lines, (l[0], l[1]), (l[2], l[3]), (0,0,255), 3, cv2.LINE_AA)"
   ]
  },
  {
   "cell_type": "code",
   "execution_count": null,
   "id": "7de8b710",
   "metadata": {},
   "outputs": [],
   "source": [
    "# for showing two images in one window\n",
    "hori = np.concatenate((image, image_with_lines), axis=1)\n",
    "winname=\"Kantenerkennung\"\n",
    "cv2.namedWindow(winname) \n",
    "cv2.moveWindow(winname, 40,30)\n",
    "cv2.imshow(winname, hori)\n",
    "#cv2.imshow(\"cdstP\", image_with_lines)\n",
    "#cv2.imshow(\"Image\", image)\n",
    "#cv2.imshow(\"Edged\", auto_edge)\n",
    "cv2.waitKey()\n",
    "cv2.destroyAllWindows()"
   ]
  },
  {
   "cell_type": "code",
   "execution_count": null,
   "id": "22a59c45",
   "metadata": {},
   "outputs": [],
   "source": []
  }
 ],
 "metadata": {
  "kernelspec": {
   "display_name": "ki_env",
   "language": "python",
   "name": "ki_env"
  },
  "language_info": {
   "codemirror_mode": {
    "name": "ipython",
    "version": 3
   },
   "file_extension": ".py",
   "mimetype": "text/x-python",
   "name": "python",
   "nbconvert_exporter": "python",
   "pygments_lexer": "ipython3",
   "version": "3.10.9"
  }
 },
 "nbformat": 4,
 "nbformat_minor": 5
}
