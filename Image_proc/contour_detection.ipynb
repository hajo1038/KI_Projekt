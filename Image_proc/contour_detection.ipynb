{
 "cells": [
  {
   "cell_type": "code",
   "execution_count": 5,
   "id": "e9079a10",
   "metadata": {},
   "outputs": [],
   "source": [
    "import cv2\n",
    "import math\n",
    "import numpy as np\n",
    "import matplotlib.pylab as plt\n",
    "from glob import glob"
   ]
  },
  {
   "cell_type": "code",
   "execution_count": 6,
   "id": "1b74a438",
   "metadata": {},
   "outputs": [],
   "source": [
    "images_list = glob(r\"KI/Bilder2/*.png\")\n",
    "#image = cv2.imread(images_list[30])\n",
    "image = cv2.imread(r\".\\KI\\Bilder2\\PXL_20230414_105843090.jpg\")\n",
    "image = cv2.resize(image, (600,800))\n",
    "gray = cv2.cvtColor(image, cv2.COLOR_BGR2GRAY)\n",
    "blurred = cv2.GaussianBlur(gray, (5, 5), 0)"
   ]
  },
  {
   "cell_type": "code",
   "execution_count": 7,
   "id": "a425d51e",
   "metadata": {},
   "outputs": [
    {
     "name": "stdout",
     "output_type": "stream",
     "text": [
      "6 objects were found in this image.\n"
     ]
    }
   ],
   "source": [
    "gray = cv2.cvtColor(image, cv2.COLOR_BGR2GRAY)\n",
    "blurred = cv2.GaussianBlur(gray, (9, 9), 0)\n",
    "edged = cv2.Canny(blurred, 10, 100)\n",
    "#edged = auto_canny_edge_detection(blurred)\n",
    "\n",
    "# define a (3, 3) structuring element\n",
    "kernel = cv2.getStructuringElement(cv2.MORPH_RECT, (9,9))\n",
    "\n",
    "# apply the dilation operation to the edged image\n",
    "dilate = cv2.dilate(edged, kernel, iterations=1)\n",
    "\n",
    "# find the contours in the dilated image\n",
    "contours, _ = cv2.findContours(dilate, cv2.RETR_EXTERNAL, cv2.CHAIN_APPROX_SIMPLE)\n",
    "image_copy = image.copy()\n",
    "# draw the contours on a copy of the original image\n",
    "cv2.drawContours(image_copy, contours, -1, (0, 255, 0), 2)\n",
    "print(len(contours), \"objects were found in this image.\")"
   ]
  },
  {
   "cell_type": "code",
   "execution_count": 8,
   "id": "703ecc10",
   "metadata": {},
   "outputs": [],
   "source": [
    "cv2.imshow(\"Dilated image\", dilate)\n",
    "cv2.imshow(\"contours\", image_copy)\n",
    "\n",
    "\n",
    "#hori = np.concatenate((dilate, image_copy), axis=1)\n",
    "\n",
    "#winname=\"Konturenerkennung\"\n",
    "#cv2.namedWindow(winname) \n",
    "#cv2.moveWindow(winname, 40,30)\n",
    "#cv2.imshow(winname, hori)\n",
    "\n",
    "cv2.waitKey(0)\n",
    "cv2.destroyAllWindows()"
   ]
  },
  {
   "cell_type": "code",
   "execution_count": null,
   "id": "73b87b9b",
   "metadata": {},
   "outputs": [],
   "source": []
  },
  {
   "cell_type": "code",
   "execution_count": null,
   "id": "6c94b9d0",
   "metadata": {},
   "outputs": [],
   "source": [
    "a"
   ]
  }
 ],
 "metadata": {
  "kernelspec": {
   "display_name": "ki_env",
   "language": "python",
   "name": "ki_env"
  },
  "language_info": {
   "codemirror_mode": {
    "name": "ipython",
    "version": 3
   },
   "file_extension": ".py",
   "mimetype": "text/x-python",
   "name": "python",
   "nbconvert_exporter": "python",
   "pygments_lexer": "ipython3",
   "version": "3.10.9"
  }
 },
 "nbformat": 4,
 "nbformat_minor": 5
}
