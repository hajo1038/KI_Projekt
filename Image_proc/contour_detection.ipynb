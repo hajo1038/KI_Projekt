{
 "cells": [
  {
   "cell_type": "code",
   "execution_count": 88,
   "id": "e9079a10",
   "metadata": {},
   "outputs": [],
   "source": [
    "import cv2\n",
    "import math\n",
    "import numpy as np\n",
    "import matplotlib.pylab as plt\n",
    "from glob import glob"
   ]
  },
  {
   "cell_type": "code",
   "execution_count": 126,
   "id": "1b74a438",
   "metadata": {},
   "outputs": [],
   "source": [
    "images_list = glob(r\"KI/Bilder2/*.png\")\n",
    "#image = cv2.imread(images_list[30])\n",
    "image = cv2.imread(r\".\\KI\\KI_Bilder\\IMG_3721.png\")\n",
    "image = cv2.resize(image, (600,800))\n",
    "gray = cv2.cvtColor(image, cv2.COLOR_BGR2GRAY)\n",
    "blurred = cv2.GaussianBlur(gray,(7, 7), 0)"
   ]
  },
  {
   "cell_type": "code",
   "execution_count": 127,
   "id": "a425d51e",
   "metadata": {},
   "outputs": [
    {
     "name": "stdout",
     "output_type": "stream",
     "text": [
      "5 objects were found in this image.\n"
     ]
    }
   ],
   "source": [
    "edged = cv2.Canny(blurred, 10, 100)\n",
    "\n",
    "# define a (3, 3) structuring element\n",
    "kernel = cv2.getStructuringElement(cv2.MORPH_RECT, (3,3))\n",
    "\n",
    "# apply the dilation operation to the edged image\n",
    "dilate = cv2.dilate(edged, kernel, iterations=1)\n",
    "erosion = cv2.erode(dilate, kernel, iterations=1)\n",
    "\n",
    "# find all of the connected components (white blobs in your image).\n",
    "# im_with_separated_blobs is an image where each detected blob has a different pixel value ranging from 1 to nb_blobs - 1.\n",
    "nb_blobs, im_with_separated_blobs, stats, _ = cv2.connectedComponentsWithStats(erosion)\n",
    "# stats (and the silenced output centroids) gives some information about the blobs. See the docs for more information. \n",
    "# here, we're interested only in the size of the blobs, contained in the last column of stats.\n",
    "sizes = stats[:, -1]\n",
    "# the following lines result in taking out the background which is also considered a component, which I find for most applications to not be the expected output.\n",
    "# you may also keep the results as they are by commenting out the following lines. You'll have to update the ranges in the for loop below. \n",
    "sizes = sizes[1:]\n",
    "nb_blobs -= 1\n",
    "\n",
    "# minimum size of particles we want to keep (number of pixels).\n",
    "# here, it's a fixed value, but you can set it as you want, eg the mean of the sizes or whatever.\n",
    "min_size = 750\n",
    "\n",
    "# output image with only the kept components\n",
    "im_result = np.zeros_like(im_with_separated_blobs)\n",
    "# for every component in the image, keep it only if it's above min_size\n",
    "for blob in range(nb_blobs):\n",
    "    if sizes[blob] >= min_size:\n",
    "        # see description of im_with_separated_blobs above\n",
    "        im_result[im_with_separated_blobs == blob + 1] = 255\n",
    "\n",
    "im_result = im_result.astype(np.uint8)\n",
    "# find the contours in the dilated image\n",
    "contours, _ = cv2.findContours(im_result, cv2.RETR_EXTERNAL, cv2.CHAIN_APPROX_SIMPLE)\n",
    "image_copy = image.copy()\n",
    "# draw the contours on a copy of the original image\n",
    "cv2.drawContours(image_copy, contours, -1, (0, 255, 0), 2)\n",
    "print(len(contours), \"objects were found in this image.\")"
   ]
  },
  {
   "cell_type": "code",
   "execution_count": 128,
   "id": "703ecc10",
   "metadata": {},
   "outputs": [],
   "source": [
    "#cv2.imshow(\"Dilated image\", dilate)\n",
    "cv2.imshow(\"Blobs removed\", im_result)\n",
    "cv2.imshow(\"contours\", image_copy)\n",
    "#cv2.imshow(\"blurred\", blurred)\n",
    "#cv2.imshow(\"Edged\", edged)\n",
    "#cv2.imshow(\"Erosion\", erosion)\n",
    "\n",
    "cv2.waitKey(0)\n",
    "cv2.destroyAllWindows()"
   ]
  },
  {
   "cell_type": "code",
   "execution_count": null,
   "id": "044debda",
   "metadata": {},
   "outputs": [],
   "source": []
  }
 ],
 "metadata": {
  "kernelspec": {
   "display_name": "ki_env",
   "language": "python",
   "name": "ki_env"
  },
  "language_info": {
   "codemirror_mode": {
    "name": "ipython",
    "version": 3
   },
   "file_extension": ".py",
   "mimetype": "text/x-python",
   "name": "python",
   "nbconvert_exporter": "python",
   "pygments_lexer": "ipython3",
   "version": "3.10.9"
  }
 },
 "nbformat": 4,
 "nbformat_minor": 5
}
