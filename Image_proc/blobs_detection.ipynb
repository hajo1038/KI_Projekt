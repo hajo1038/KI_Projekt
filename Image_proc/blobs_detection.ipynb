{
 "cells": [
  {
   "cell_type": "code",
   "execution_count": 35,
   "id": "58417b8c",
   "metadata": {},
   "outputs": [],
   "source": [
    "import cv2\n",
    "import math\n",
    "import numpy as np\n",
    "import matplotlib.pylab as plt\n",
    "from glob import glob"
   ]
  },
  {
   "cell_type": "code",
   "execution_count": 36,
   "id": "7b723306",
   "metadata": {},
   "outputs": [],
   "source": [
    "images_list = glob(r\"KI/Bilder2/*.png\")\n",
    "#image = cv2.imread(images_list[30])\n",
    "image = cv2.imread(r\".\\KI\\Bilder2\\PXL_20230414_105843090.jpg\")\n",
    "image = cv2.resize(image, (600,800))\n",
    "gray = cv2.cvtColor(image, cv2.COLOR_BGR2GRAY)\n",
    "blurred = cv2.GaussianBlur(gray, (5, 5), 0)"
   ]
  },
  {
   "cell_type": "code",
   "execution_count": 37,
   "id": "54871c83",
   "metadata": {},
   "outputs": [],
   "source": [
    "def auto_canny_edge_detection(image, sigma=0.33):\n",
    "    md = np.median(image)\n",
    "    lower_value = int(max(0, (1.0-sigma) * md))\n",
    "    upper_value = int(min(255, (1.0+sigma) * md))\n",
    "    return cv2.Canny(image, lower_value, upper_value)\n",
    "\n",
    "auto_edge = auto_canny_edge_detection(blurred)"
   ]
  },
  {
   "cell_type": "code",
   "execution_count": 38,
   "id": "ab0517f8",
   "metadata": {},
   "outputs": [],
   "source": [
    "# Copy edges to the images that will display the results in BGR\n",
    "dst = cv2.Canny(blurred, 50, 200, None, 3)\n",
    "cdst = cv2.cvtColor(dst, cv2.COLOR_GRAY2BGR)\n",
    "cdstP = np.copy(cdst)\n",
    "\n",
    "\n",
    "# Probabilistic Line Transform\n",
    "linesP = cv2.HoughLinesP(dst, 1, np.pi / 180, 20, 3, 2, 10)\n",
    "# Draw the lines\n",
    "if linesP is not None:\n",
    "    for i in range(0, len(linesP)):\n",
    "        l = linesP[i][0]\n",
    "        cv2.line(cdstP, (l[0], l[1]), (l[2], l[3]), (0,0,255), 3, cv2.LINE_AA)"
   ]
  },
  {
   "cell_type": "code",
   "execution_count": 39,
   "id": "4bffe13f",
   "metadata": {},
   "outputs": [],
   "source": [
    "# Apply Laplacian of Gaussian\n",
    "blobs_log = cv2.Laplacian(cdstP, cv2.CV_64F)\n",
    "blobs_log = np.uint8(np.absolute(blobs_log))\n",
    "    \n",
    "# Set up the detector with default parameters.\n",
    "params = cv2.SimpleBlobDetector_Params()\n",
    "\n",
    "# Change thresholds\n",
    "params.minThreshold = 1\n",
    "params.maxThreshold = 1000\n",
    "\n",
    "# Filter by Area.\n",
    "params.filterByArea = True\n",
    "params.minArea = 800\n",
    "params.maxArea = 5000\n",
    "\n",
    "# Filter by Circularity\n",
    "params.filterByCircularity = True\n",
    "params.minCircularity = 0.01\n",
    "params.maxCircularity = 1\n",
    "\n",
    "# Filter by Convexity\n",
    "params.filterByConvexity = True\n",
    "params.minConvexity = 0.1\n",
    "params.maxConvexity = 5\n",
    "\n",
    "# Filter by Inertia\n",
    "params.filterByInertia = True\n",
    "params.minInertiaRatio = 0.01\n",
    "params.maxInertiaRatio = 1\n",
    "\n",
    "# Create a detector with the parameters\n",
    "detector = cv2.SimpleBlobDetector_create(params)\n",
    "\n",
    "# Detect blobs.\n",
    "keypoints = detector.detect(blobs_log)\n",
    "\n",
    "# Draw detected blobs as red circles.\n",
    "# cv2.DRAW_MATCHES_FLAGS_DRAW_RICH_KEYPOINTS ensures the size of the circle corresponds to the size of the blob\n",
    "im_with_keypoints = cv2.drawKeypoints(cdstP, keypoints, np.array([]), (0, 255, 255), cv2.DRAW_MATCHES_FLAGS_DRAW_RICH_KEYPOINTS)"
   ]
  },
  {
   "cell_type": "code",
   "execution_count": 40,
   "id": "0d67defa",
   "metadata": {},
   "outputs": [],
   "source": [
    "# Show keypoints\n",
    "winname1=\"Keypoints\"\n",
    "cv2.namedWindow(winname1) \n",
    "cv2.moveWindow(winname1, 500,-2000)\n",
    "cv2.imshow(winname1, im_with_keypoints)\n",
    "cv2.waitKey()\n",
    "cv2.destroyAllWindows()"
   ]
  },
  {
   "cell_type": "code",
   "execution_count": null,
   "id": "93da0159",
   "metadata": {},
   "outputs": [],
   "source": []
  }
 ],
 "metadata": {
  "kernelspec": {
   "display_name": "ki_env",
   "language": "python",
   "name": "ki_env"
  },
  "language_info": {
   "codemirror_mode": {
    "name": "ipython",
    "version": 3
   },
   "file_extension": ".py",
   "mimetype": "text/x-python",
   "name": "python",
   "nbconvert_exporter": "python",
   "pygments_lexer": "ipython3",
   "version": "3.10.9"
  }
 },
 "nbformat": 4,
 "nbformat_minor": 5
}
