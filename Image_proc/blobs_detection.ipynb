{
 "cells": [
  {
   "cell_type": "code",
   "execution_count": 1,
   "id": "58417b8c",
   "metadata": {},
   "outputs": [],
   "source": [
    "import cv2\n",
    "import math\n",
    "import numpy as np\n",
    "import matplotlib.pylab as plt\n",
    "from glob import glob"
   ]
  },
  {
   "cell_type": "code",
   "execution_count": 3,
   "id": "7b723306",
   "metadata": {},
   "outputs": [],
   "source": [
    "images_list = glob(r\"../data/*.png\")\n",
    "#image = cv2.imread(images_list[30])\n",
    "image = cv2.imread(r\"..\\data\\IMG_4109.png\")\n",
    "gray = cv2.cvtColor(image, cv2.COLOR_BGR2GRAY)\n",
    "blurred = cv2.GaussianBlur(gray, (5, 5), 0)"
   ]
  },
  {
   "cell_type": "code",
   "execution_count": 4,
   "id": "ab0517f8",
   "metadata": {},
   "outputs": [
    {
     "name": "stdout",
     "output_type": "stream",
     "text": [
      "126 Lines were found.\n"
     ]
    }
   ],
   "source": [
    "# Copy edges to the images that will display the results in BGR\n",
    "edged = cv2.Canny(blurred, 50, 200, None, 3)\n",
    "image_with_lines = cv2.cvtColor(edged, cv2.COLOR_GRAY2BGR)\n",
    "\n",
    "# Probabilistic Line Transform\n",
    "#linesP = cv2.HoughLinesP(dst, 1, np.pi / 180, 20, 3, 2, 10)\n",
    "linesP = cv2.HoughLinesP(edged, 1, np.pi / 180, 20, 3, 30, 10)\n",
    "# Draw the lines\n",
    "if linesP is not None:\n",
    "    for i in range(0, len(linesP)):\n",
    "        l = linesP[i][0]\n",
    "        cv2.line(image_with_lines, (l[0], l[1]), (l[2], l[3]), (0,0,255), 3, cv2.LINE_AA)\n",
    "print(len(linesP), \"Lines were found.\")"
   ]
  },
  {
   "cell_type": "code",
   "execution_count": 5,
   "id": "4bffe13f",
   "metadata": {},
   "outputs": [
    {
     "name": "stdout",
     "output_type": "stream",
     "text": [
      "17 Keypoints were found.\n"
     ]
    }
   ],
   "source": [
    "# Apply Laplacian of Gaussian\n",
    "blobs_log = cv2.Laplacian(image_with_lines, cv2.CV_64F)\n",
    "blobs_log = np.uint8(np.absolute(blobs_log))\n",
    "    \n",
    "# Set up the detector with default parameters.\n",
    "params = cv2.SimpleBlobDetector_Params()\n",
    "\n",
    "# Change thresholds\n",
    "params.minThreshold = 10\n",
    "params.maxThreshold = 1000\n",
    "\n",
    "# Filter by Area.\n",
    "params.filterByArea = True\n",
    "params.minArea = 100\n",
    "params.maxArea = 1000\n",
    "\n",
    "# Filter by Circularity\n",
    "params.filterByCircularity = False\n",
    "params.minCircularity = 0.3\n",
    "params.maxCircularity = 0.9\n",
    "\n",
    "# Filter by Convexity\n",
    "params.filterByConvexity = False\n",
    "params.minConvexity = 0.1\n",
    "params.maxConvexity = 1\n",
    "\n",
    "# Filter by Inertia\n",
    "params.filterByInertia = False\n",
    "params.minInertiaRatio = 0.01\n",
    "params.maxInertiaRatio = 1\n",
    "\n",
    "# Create a detector with the parameters\n",
    "detector = cv2.SimpleBlobDetector_create(params)\n",
    "\n",
    "# Detect blobs.\n",
    "keypoints = detector.detect(blobs_log)\n",
    "print(len(keypoints), \"Keypoints were found.\")\n",
    "# Draw detected blobs as red circles.\n",
    "# cv2.DRAW_MATCHES_FLAGS_DRAW_RICH_KEYPOINTS ensures the size of the circle corresponds to the size of the blob\n",
    "im_with_keypoints = cv2.drawKeypoints(image_with_lines, keypoints, np.array([]), (0, 255, 255), cv2.DRAW_MATCHES_FLAGS_DRAW_RICH_KEYPOINTS)"
   ]
  },
  {
   "cell_type": "code",
   "execution_count": 6,
   "id": "0d67defa",
   "metadata": {},
   "outputs": [],
   "source": [
    "# Show keypoints\n",
    "winname1=\"Keypoints\"\n",
    "cv2.namedWindow(winname1) \n",
    "cv2.moveWindow(winname1, 500,-2000)\n",
    "cv2.imshow(winname1, im_with_keypoints)\n",
    "\n",
    "#cv2.imshow(\"cdstP\", cdstP)\n",
    "cv2.imshow(\"Edged\", edged)\n",
    "\n",
    "cv2.waitKey()\n",
    "cv2.destroyAllWindows()"
   ]
  },
  {
   "cell_type": "code",
   "execution_count": null,
   "id": "7d04ae16",
   "metadata": {},
   "outputs": [],
   "source": []
  }
 ],
 "metadata": {
  "kernelspec": {
   "display_name": "ki_env",
   "language": "python",
   "name": "ki_env"
  },
  "language_info": {
   "codemirror_mode": {
    "name": "ipython",
    "version": 3
   },
   "file_extension": ".py",
   "mimetype": "text/x-python",
   "name": "python",
   "nbconvert_exporter": "python",
   "pygments_lexer": "ipython3",
   "version": "3.10.9"
  }
 },
 "nbformat": 4,
 "nbformat_minor": 5
}
