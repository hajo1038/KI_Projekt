{
 "cells": [
  {
   "cell_type": "code",
   "execution_count": 1,
   "id": "9d86a3ef",
   "metadata": {
    "scrolled": true
   },
   "outputs": [
    {
     "name": "stderr",
     "output_type": "stream",
     "text": [
      "/Users/jonathanhaller/miniforge3/envs/tf_mac_env/lib/python3.9/site-packages/requests/__init__.py:102: RequestsDependencyWarning: urllib3 (1.26.9) or chardet (None)/charset_normalizer (3.1.0) doesn't match a supported version!\n",
      "  warnings.warn(\"urllib3 ({}) or chardet ({})/charset_normalizer ({}) doesn't match a supported \"\n"
     ]
    }
   ],
   "source": [
    "import tensorflow as tf\n",
    "from tensorflow import keras\n",
    "from tensorflow.keras.models import Sequential\n",
    "from tensorflow.keras.layers import Dropout, Dense, Conv2D, MaxPool2D, Flatten, Resizing, Rescaling, BatchNormalization\n",
    "from tensorflow.keras.regularizers import l2\n",
    "from tensorflow.keras.optimizers import Adam\n",
    "from tensorflow.keras.callbacks import EarlyStopping, ModelCheckpoint\n",
    "from tensorflow.keras.losses import CategoricalCrossentropy\n",
    "import sklearn\n",
    "from sklearn.model_selection import train_test_split\n",
    "from sklearn.metrics import confusion_matrix, classification_report, ConfusionMatrixDisplay\n",
    "import matplotlib.pyplot as plt\n",
    "from glob import glob\n",
    "import os\n",
    "import numpy as np\n",
    "import cv2\n",
    "import pandas as pd"
   ]
  },
  {
   "attachments": {},
   "cell_type": "markdown",
   "id": "94124e16",
   "metadata": {},
   "source": [
    "## Laden der Bilder und Label\n",
    "Die Bilder werden als Graustufenbilder in dem Feature-Vektor gespeichert. Dieser hat die Form `(Anzahl Bilder, Pixel_x, Pixel_y, Farbkanäle(1 für Graustufe, 3 für RGB)`.\n",
    "\n",
    "Die Daten werden dann in Trainings-, Validierungs- und Testdatensätze aufgeteilt."
   ]
  },
  {
   "cell_type": "code",
   "execution_count": 91,
   "id": "e71a50c5",
   "metadata": {},
   "outputs": [],
   "source": [
    "# Einladen der Bilder\n",
    "# Die Bilder werden hierbei auf von einer Größe von 256x256 Pixeln auf 196x196 Pixel verkleinert\n",
    "\n",
    "images_list = glob(r\"./data/256_res/*.png\")\n",
    "image_names = [os.path.basename(file) for file in glob('./data/256_res/*.png')]\n",
    "features = np.ndarray((len(images_list), 196, 196, 3))\n",
    "for count, image in enumerate(images_list):\n",
    "    im = cv2.imread(image)\n",
    "    im = cv2.resize(im, (196,196))\n",
    "    colored_image = cv2.cvtColor(im, cv2.COLOR_BGR2RGB)\n",
    "    features[count,:,:] = colored_image\n",
    "\n",
    "features = features[:,:,:]\n",
    "df_labels = pd.read_csv(\"./LabelingApp/Labels.csv\")\n",
    "df_labels = pd.get_dummies(df_labels, columns=[\"label\"])\n",
    "\n",
    "labels = np.ndarray((df_labels.shape[0], df_labels.shape[1]-1))\n",
    "for im_count, image in enumerate(image_names):\n",
    "    labels[im_count, :] = df_labels[df_labels[\"file\"] == image].iloc[:, 1:].values\n",
    "        \n",
    "[X_train, X_test, y_train, y_test] = train_test_split(features, labels, test_size=0.2, random_state=41)\n",
    "[X_train, X_val, y_train, y_val] = train_test_split(X_train, y_train, test_size=0.3, random_state=41)"
   ]
  },
  {
   "cell_type": "code",
   "execution_count": 93,
   "id": "8b37a486",
   "metadata": {},
   "outputs": [
    {
     "data": {
      "text/plain": [
       "(1449, 15)"
      ]
     },
     "execution_count": 93,
     "metadata": {},
     "output_type": "execute_result"
    }
   ],
   "source": [
    "print(\"labels_shape: \", labels.shape)\n",
    "print(\"features_shape: \", features.shape)\n",
    "print(\"Train_Data_shape: \", y_train.shape)\n",
    "print(\"Val_Data_shape: \", y_val.shape)\n",
    "print(\"Test_Data_shape: \", y_test.shape)"
   ]
  },
  {
   "cell_type": "code",
   "execution_count": 69,
   "id": "31363aaf",
   "metadata": {},
   "outputs": [
    {
     "data": {
      "text/plain": [
       "<BarContainer object of 11 artists>"
      ]
     },
     "execution_count": 69,
     "metadata": {},
     "output_type": "execute_result"
    },
    {
     "data": {
      "image/png": "[encoded data removed]",
      "text/plain": [
       "<Figure size 1080x360 with 3 Axes>"
      ]
     },
     "metadata": {
      "needs_background": "light"
     },
     "output_type": "display_data"
    }
   ],
   "source": [
    "fig, axs = plt.subplots(nrows=1, ncols=4, figsize = (15,5))\n",
    "unique_values_train, value_count_train = np.unique(np.argmax(y_train, axis=1), return_counts=True)\n",
    "unique_values_test, value_count_test = np.unique(np.argmax(y_test, axis=1), return_counts=True)\n",
    "unique_values_val, value_count_val = np.unique(np.argmax(y_val, axis=1), return_counts=True)\n",
    "values_all, values_count_all = np.unique(np.argmax(labels, axis=1), return_counts=True)\n",
    "\n",
    "axs[0].set_xticks(np.unique(np.argmax(y_train, axis=1)))\n",
    "axs[1].set_xticks(np.unique(np.argmax(y_test, axis=1)))\n",
    "axs[2].set_xticks(np.unique(np.argmax(y_val, axis=1)))\n",
    "axs[3].set_xticks(np.unique(np.argmax(labels, axis=1)))\n",
    "\n",
    "axs[0].set_title(\"Label-Verteilung Trainingdaten\")\n",
    "axs[1].set_title(\"Label-Verteilung Testdaten\")\n",
    "axs[2].set_title(\"Label-Verteilung Validierungsdaten\")\n",
    "axs[3].set_title(\"Label-Verteilung Alle Daten\")\n",
    "\n",
    "axs[0].bar(unique_values_train, value_count_train)\n",
    "axs[1].bar(unique_values_test, value_count_test)\n",
    "axs[2].bar(unique_values_val, value_count_val)\n",
    "axs[3].bar(values_all, values_count_all)"
   ]
  },
  {
   "attachments": {},
   "cell_type": "markdown",
   "id": "db2db31d",
   "metadata": {},
   "source": [
    "## Erstellung von Schichten für Preprocessing\n",
    "`resize_and_rescale` ist eine Schicht mit der die Bilder auf 256x256 skaliert werden und die Pixel-Werte auf den Wertebereich von (-1, 1) skaliert werden\n",
    "\n",
    "`data_augmentation` sorgt dafür, dass die Bilder noch über die horizontale und vertikale Achse gespiegelt werden um mehr Daten zu generieren."
   ]
  },
  {
   "cell_type": "code",
   "execution_count": 70,
   "id": "48f18104",
   "metadata": {},
   "outputs": [],
   "source": [
    "resize_and_rescale = Sequential([\n",
    "  Rescaling(1./127.5, offset=-1, input_shape=(196,196,3)) #skaliert Bildwerte in einem Bereich von (-1, 1)\n",
    "  ])\n",
    "\n",
    "data_augmentation = Sequential([\n",
    "  RandomFlip(\"horizontal_and_vertical\")])\n",
    "\n",
    "model_saving = tf.keras.callbacks.ModelCheckpoint(\"./models/CNN_XX.h5\", monitor='val_loss', verbose=1, save_best_only=True, save_weights_only=False, mode='auto', save_freq='epoch')\n",
    "early_stopping = tf.keras.callbacks.EarlyStopping(monitor='val_loss', patience=10, verbose=1, mode='min', restore_best_weights=True)\n",
    "callbacks = [model_saving, early_stopping]"
   ]
  },
  {
   "attachments": {},
   "cell_type": "markdown",
   "id": "0e72e509",
   "metadata": {},
   "source": [
    "## Erstellung des CNNs"
   ]
  },
  {
   "cell_type": "code",
   "execution_count": 71,
   "id": "871f22a1",
   "metadata": {},
   "outputs": [],
   "source": [
    "model = Sequential()\n",
    "model.add(resize_and_rescale)\n",
    "model.add(data_augmentation)\n",
    "\n",
    "model.add(Conv2D(16, activation='relu', kernel_size=5, padding= \"same\"))\n",
    "model.add(MaxPool2D((2,2)))\n",
    "\n",
    "model.add(Conv2D(32, activation='relu', kernel_size=3, padding= \"same\"))\n",
    "model.add(MaxPool2D((2,2)))\n",
    "\n",
    "model.add(Conv2D(64, activation='relu', kernel_size=1, padding= \"same\"))\n",
    "model.add(MaxPool2D((2,2)))\n",
    "\n",
    "model.add(Conv2D(128, activation='relu', kernel_size=3, padding= \"same\"))\n",
    "model.add(MaxPool2D((2,2)))\n",
    "\n",
    "model.add(Conv2D(256, activation='relu', kernel_size=3, padding= \"same\", activity_regularizer=l2(0.0008)))\n",
    "model.add(MaxPool2D((2,2)))\n",
    "\n",
    "model.add(Conv2D(256, activation='relu', kernel_size=3, padding= \"same\", activity_regularizer=l2(0.0058)))\n",
    "model.add(MaxPool2D((2,2)))\n",
    "\n",
    "model.add(Flatten())\n",
    "\n",
    "model.add(Dense(64, activation='relu'))\n",
    "model.add(BatchNormalization())\n",
    "model.add(Dropout(0.35))\n",
    "\n",
    "model.add(Dense(32, activation='relu'))\n",
    "model.add(BatchNormalization())\n",
    "model.add(Dropout(0.45))\n",
    "\n",
    "model.add(Dense(y_train.shape[1], activation='softmax'))\n",
    "model.compile(optimizer=Adam(), loss=CategoricalCrossentropy(), metrics=['accuracy'])"
   ]
  },
  {
   "cell_type": "code",
   "execution_count": null,
   "id": "109c8592",
   "metadata": {},
   "outputs": [],
   "source": [
    "model.summary()"
   ]
  },
  {
   "attachments": {},
   "cell_type": "markdown",
   "id": "48473ff9",
   "metadata": {},
   "source": [
    "## Training des CNNs"
   ]
  },
  {
   "cell_type": "code",
   "execution_count": 72,
   "id": "2706a516",
   "metadata": {},
   "outputs": [
    {
     "name": "stdout",
     "output_type": "stream",
     "text": [
      "Epoch 1/10\n",
      "28/28 [==============================] - 4s 122ms/step - loss: 5.2101 - accuracy: 0.1519 - val_loss: 2.8311 - val_accuracy: 0.2138\n",
      "Epoch 2/10\n",
      "28/28 [==============================] - 3s 103ms/step - loss: 2.1854 - accuracy: 0.3049 - val_loss: 1.9402 - val_accuracy: 0.2655\n",
      "Epoch 3/10\n",
      "28/28 [==============================] - 3s 103ms/step - loss: 1.7494 - accuracy: 0.4131 - val_loss: 1.7958 - val_accuracy: 0.3276\n",
      "Epoch 4/10\n",
      "28/28 [==============================] - 3s 102ms/step - loss: 1.5301 - accuracy: 0.4925 - val_loss: 1.7613 - val_accuracy: 0.3517\n",
      "Epoch 5/10\n",
      "28/28 [==============================] - 3s 102ms/step - loss: 1.3649 - accuracy: 0.5604 - val_loss: 1.7859 - val_accuracy: 0.3276\n",
      "Epoch 6/10\n",
      "28/28 [==============================] - 3s 102ms/step - loss: 1.1526 - accuracy: 0.6571 - val_loss: 1.7357 - val_accuracy: 0.3655\n",
      "Epoch 7/10\n",
      "28/28 [==============================] - 3s 102ms/step - loss: 1.0397 - accuracy: 0.6962 - val_loss: 1.7246 - val_accuracy: 0.3690\n",
      "Epoch 8/10\n",
      "28/28 [==============================] - 3s 103ms/step - loss: 0.8620 - accuracy: 0.7779 - val_loss: 1.6716 - val_accuracy: 0.4034\n",
      "Epoch 9/10\n",
      "28/28 [==============================] - 3s 102ms/step - loss: 0.7635 - accuracy: 0.7963 - val_loss: 1.6608 - val_accuracy: 0.3759\n",
      "Epoch 10/10\n",
      "28/28 [==============================] - 3s 103ms/step - loss: 0.6523 - accuracy: 0.8262 - val_loss: 1.6926 - val_accuracy: 0.3793\n"
     ]
    }
   ],
   "source": [
    "history = model.fit(X_train, y_train, validation_data=(X_val, y_val), epochs=100, batch_size = 38, callbacks=[callbacks], shuffle=True)"
   ]
  },
  {
   "cell_type": "code",
   "execution_count": 78,
   "id": "4a2f53f6",
   "metadata": {
    "scrolled": true
   },
   "outputs": [
    {
     "name": "stdout",
     "output_type": "stream",
     "text": [
      "10/10 [==============================] - 0s 26ms/step - loss: 1.9058 - accuracy: 0.3276\n",
      "10/10 [==============================] - 0s 27ms/step\n"
     ]
    }
   ],
   "source": [
    "# Testen des erstellten Modells\n",
    "\n",
    "model.evaluate(X_test, y_test)\n",
    "predictions = model.predict(X_test)"
   ]
  },
  {
   "attachments": {},
   "cell_type": "markdown",
   "id": "498c562c",
   "metadata": {},
   "source": [
    "Laden eines bereits vorhandenen Modells"
   ]
  },
  {
   "cell_type": "code",
   "execution_count": null,
   "id": "e940457f",
   "metadata": {},
   "outputs": [],
   "source": [
    "loaded_model = tf.keras.models.load_model(\"./models/CNN_Colab_5.h5\")"
   ]
  },
  {
   "cell_type": "code",
   "execution_count": null,
   "id": "417ac24c",
   "metadata": {},
   "outputs": [],
   "source": [
    "loaded_model.summary()"
   ]
  },
  {
   "cell_type": "code",
   "execution_count": null,
   "id": "5ddb8184",
   "metadata": {},
   "outputs": [],
   "source": [
    "# Testen des geladenen Modells\n",
    "\n",
    "loaded_model.evaluate(X_test, y_test)\n",
    "predictions = model.predict(X_test)"
   ]
  },
  {
   "cell_type": "code",
   "execution_count": 87,
   "id": "f1254a80",
   "metadata": {},
   "outputs": [
    {
     "data": {
      "text/html": [
       "<div>\n",
       "<style scoped>\n",
       "    .dataframe tbody tr th:only-of-type {\n",
       "        vertical-align: middle;\n",
       "    }\n",
       "\n",
       "    .dataframe tbody tr th {\n",
       "        vertical-align: top;\n",
       "    }\n",
       "\n",
       "    .dataframe thead th {\n",
       "        text-align: right;\n",
       "    }\n",
       "</style>\n",
       "<table border=\"1\" class=\"dataframe\">\n",
       "  <thead>\n",
       "    <tr style=\"text-align: right;\">\n",
       "      <th></th>\n",
       "      <th>0</th>\n",
       "      <th>1</th>\n",
       "      <th>2</th>\n",
       "      <th>3</th>\n",
       "      <th>4</th>\n",
       "      <th>5</th>\n",
       "      <th>6</th>\n",
       "      <th>7</th>\n",
       "      <th>8</th>\n",
       "      <th>9</th>\n",
       "      <th>10</th>\n",
       "      <th>11</th>\n",
       "      <th>12</th>\n",
       "      <th>13</th>\n",
       "      <th>14</th>\n",
       "      <th>Label</th>\n",
       "    </tr>\n",
       "  </thead>\n",
       "  <tbody>\n",
       "    <tr>\n",
       "      <th>0</th>\n",
       "      <td>0.000000</td>\n",
       "      <td>1.100000</td>\n",
       "      <td>3.100000</td>\n",
       "      <td>4.400000</td>\n",
       "      <td>26.9</td>\n",
       "      <td>9.400000</td>\n",
       "      <td>10.500000</td>\n",
       "      <td>0.8</td>\n",
       "      <td>0.100000</td>\n",
       "      <td>10.000000</td>\n",
       "      <td>33.599998</td>\n",
       "      <td>0.0</td>\n",
       "      <td>0.0</td>\n",
       "      <td>0.0</td>\n",
       "      <td>0.0</td>\n",
       "      <td>6</td>\n",
       "    </tr>\n",
       "    <tr>\n",
       "      <th>1</th>\n",
       "      <td>0.000000</td>\n",
       "      <td>44.600002</td>\n",
       "      <td>2.400000</td>\n",
       "      <td>24.200001</td>\n",
       "      <td>9.8</td>\n",
       "      <td>8.299999</td>\n",
       "      <td>3.600000</td>\n",
       "      <td>1.5</td>\n",
       "      <td>3.300000</td>\n",
       "      <td>1.800000</td>\n",
       "      <td>0.400000</td>\n",
       "      <td>0.0</td>\n",
       "      <td>0.0</td>\n",
       "      <td>0.0</td>\n",
       "      <td>0.0</td>\n",
       "      <td>4</td>\n",
       "    </tr>\n",
       "    <tr>\n",
       "      <th>2</th>\n",
       "      <td>0.000000</td>\n",
       "      <td>2.100000</td>\n",
       "      <td>0.700000</td>\n",
       "      <td>42.000000</td>\n",
       "      <td>9.6</td>\n",
       "      <td>4.600000</td>\n",
       "      <td>13.500001</td>\n",
       "      <td>5.1</td>\n",
       "      <td>5.800000</td>\n",
       "      <td>16.000000</td>\n",
       "      <td>0.500000</td>\n",
       "      <td>0.0</td>\n",
       "      <td>0.0</td>\n",
       "      <td>0.0</td>\n",
       "      <td>0.0</td>\n",
       "      <td>5</td>\n",
       "    </tr>\n",
       "    <tr>\n",
       "      <th>3</th>\n",
       "      <td>0.000000</td>\n",
       "      <td>39.299999</td>\n",
       "      <td>4.300000</td>\n",
       "      <td>9.800000</td>\n",
       "      <td>3.9</td>\n",
       "      <td>12.800000</td>\n",
       "      <td>8.900001</td>\n",
       "      <td>3.1</td>\n",
       "      <td>4.100000</td>\n",
       "      <td>11.900001</td>\n",
       "      <td>1.800000</td>\n",
       "      <td>0.0</td>\n",
       "      <td>0.0</td>\n",
       "      <td>0.0</td>\n",
       "      <td>0.0</td>\n",
       "      <td>4</td>\n",
       "    </tr>\n",
       "    <tr>\n",
       "      <th>4</th>\n",
       "      <td>0.000000</td>\n",
       "      <td>0.000000</td>\n",
       "      <td>2.100000</td>\n",
       "      <td>8.600000</td>\n",
       "      <td>8.8</td>\n",
       "      <td>3.700000</td>\n",
       "      <td>17.200001</td>\n",
       "      <td>6.9</td>\n",
       "      <td>13.400001</td>\n",
       "      <td>26.300001</td>\n",
       "      <td>12.800000</td>\n",
       "      <td>0.0</td>\n",
       "      <td>0.0</td>\n",
       "      <td>0.0</td>\n",
       "      <td>0.0</td>\n",
       "      <td>7</td>\n",
       "    </tr>\n",
       "    <tr>\n",
       "      <th>...</th>\n",
       "      <td>...</td>\n",
       "      <td>...</td>\n",
       "      <td>...</td>\n",
       "      <td>...</td>\n",
       "      <td>...</td>\n",
       "      <td>...</td>\n",
       "      <td>...</td>\n",
       "      <td>...</td>\n",
       "      <td>...</td>\n",
       "      <td>...</td>\n",
       "      <td>...</td>\n",
       "      <td>...</td>\n",
       "      <td>...</td>\n",
       "      <td>...</td>\n",
       "      <td>...</td>\n",
       "      <td>...</td>\n",
       "    </tr>\n",
       "    <tr>\n",
       "      <th>285</th>\n",
       "      <td>3.600000</td>\n",
       "      <td>10.100000</td>\n",
       "      <td>53.799999</td>\n",
       "      <td>9.000000</td>\n",
       "      <td>12.5</td>\n",
       "      <td>6.600000</td>\n",
       "      <td>1.500000</td>\n",
       "      <td>0.7</td>\n",
       "      <td>0.300000</td>\n",
       "      <td>1.000000</td>\n",
       "      <td>0.900000</td>\n",
       "      <td>0.0</td>\n",
       "      <td>0.0</td>\n",
       "      <td>0.0</td>\n",
       "      <td>0.0</td>\n",
       "      <td>0</td>\n",
       "    </tr>\n",
       "    <tr>\n",
       "      <th>286</th>\n",
       "      <td>0.000000</td>\n",
       "      <td>7.000000</td>\n",
       "      <td>0.900000</td>\n",
       "      <td>16.500000</td>\n",
       "      <td>11.0</td>\n",
       "      <td>30.199999</td>\n",
       "      <td>4.800000</td>\n",
       "      <td>3.8</td>\n",
       "      <td>7.000000</td>\n",
       "      <td>18.199999</td>\n",
       "      <td>0.600000</td>\n",
       "      <td>0.0</td>\n",
       "      <td>0.0</td>\n",
       "      <td>0.0</td>\n",
       "      <td>0.0</td>\n",
       "      <td>5</td>\n",
       "    </tr>\n",
       "    <tr>\n",
       "      <th>287</th>\n",
       "      <td>0.000000</td>\n",
       "      <td>30.400000</td>\n",
       "      <td>22.900000</td>\n",
       "      <td>15.900000</td>\n",
       "      <td>4.1</td>\n",
       "      <td>12.200000</td>\n",
       "      <td>5.700000</td>\n",
       "      <td>5.3</td>\n",
       "      <td>1.300000</td>\n",
       "      <td>1.300000</td>\n",
       "      <td>0.800000</td>\n",
       "      <td>0.0</td>\n",
       "      <td>0.0</td>\n",
       "      <td>0.0</td>\n",
       "      <td>0.0</td>\n",
       "      <td>5</td>\n",
       "    </tr>\n",
       "    <tr>\n",
       "      <th>288</th>\n",
       "      <td>95.900002</td>\n",
       "      <td>2.400000</td>\n",
       "      <td>1.100000</td>\n",
       "      <td>0.400000</td>\n",
       "      <td>0.2</td>\n",
       "      <td>0.100000</td>\n",
       "      <td>0.000000</td>\n",
       "      <td>0.0</td>\n",
       "      <td>0.000000</td>\n",
       "      <td>0.000000</td>\n",
       "      <td>0.000000</td>\n",
       "      <td>0.0</td>\n",
       "      <td>0.0</td>\n",
       "      <td>0.0</td>\n",
       "      <td>0.0</td>\n",
       "      <td>0</td>\n",
       "    </tr>\n",
       "    <tr>\n",
       "      <th>289</th>\n",
       "      <td>0.300000</td>\n",
       "      <td>14.700000</td>\n",
       "      <td>68.599998</td>\n",
       "      <td>7.700000</td>\n",
       "      <td>3.5</td>\n",
       "      <td>4.100000</td>\n",
       "      <td>0.500000</td>\n",
       "      <td>0.1</td>\n",
       "      <td>0.000000</td>\n",
       "      <td>0.100000</td>\n",
       "      <td>0.500000</td>\n",
       "      <td>0.0</td>\n",
       "      <td>0.0</td>\n",
       "      <td>0.0</td>\n",
       "      <td>0.0</td>\n",
       "      <td>4</td>\n",
       "    </tr>\n",
       "  </tbody>\n",
       "</table>\n",
       "<p>290 rows × 16 columns</p>\n",
       "</div>"
      ],
      "text/plain": [
       "             0          1          2          3     4          5          6  \\\n",
       "0     0.000000   1.100000   3.100000   4.400000  26.9   9.400000  10.500000   \n",
       "1     0.000000  44.600002   2.400000  24.200001   9.8   8.299999   3.600000   \n",
       "2     0.000000   2.100000   0.700000  42.000000   9.6   4.600000  13.500001   \n",
       "3     0.000000  39.299999   4.300000   9.800000   3.9  12.800000   8.900001   \n",
       "4     0.000000   0.000000   2.100000   8.600000   8.8   3.700000  17.200001   \n",
       "..         ...        ...        ...        ...   ...        ...        ...   \n",
       "285   3.600000  10.100000  53.799999   9.000000  12.5   6.600000   1.500000   \n",
       "286   0.000000   7.000000   0.900000  16.500000  11.0  30.199999   4.800000   \n",
       "287   0.000000  30.400000  22.900000  15.900000   4.1  12.200000   5.700000   \n",
       "288  95.900002   2.400000   1.100000   0.400000   0.2   0.100000   0.000000   \n",
       "289   0.300000  14.700000  68.599998   7.700000   3.5   4.100000   0.500000   \n",
       "\n",
       "       7          8          9         10   11   12   13   14  Label  \n",
       "0    0.8   0.100000  10.000000  33.599998  0.0  0.0  0.0  0.0      6  \n",
       "1    1.5   3.300000   1.800000   0.400000  0.0  0.0  0.0  0.0      4  \n",
       "2    5.1   5.800000  16.000000   0.500000  0.0  0.0  0.0  0.0      5  \n",
       "3    3.1   4.100000  11.900001   1.800000  0.0  0.0  0.0  0.0      4  \n",
       "4    6.9  13.400001  26.300001  12.800000  0.0  0.0  0.0  0.0      7  \n",
       "..   ...        ...        ...        ...  ...  ...  ...  ...    ...  \n",
       "285  0.7   0.300000   1.000000   0.900000  0.0  0.0  0.0  0.0      0  \n",
       "286  3.8   7.000000  18.199999   0.600000  0.0  0.0  0.0  0.0      5  \n",
       "287  5.3   1.300000   1.300000   0.800000  0.0  0.0  0.0  0.0      5  \n",
       "288  0.0   0.000000   0.000000   0.000000  0.0  0.0  0.0  0.0      0  \n",
       "289  0.1   0.000000   0.100000   0.500000  0.0  0.0  0.0  0.0      4  \n",
       "\n",
       "[290 rows x 16 columns]"
      ]
     },
     "execution_count": 87,
     "metadata": {},
     "output_type": "execute_result"
    }
   ],
   "source": [
    "df_test = pd.DataFrame(predictions.round(3)*100)\n",
    "df_test[\"Label\"] = np.argmax(y_test, axis=1)\n",
    "df_test"
   ]
  },
  {
   "attachments": {},
   "cell_type": "markdown",
   "id": "a51ba767",
   "metadata": {},
   "source": [
    "## Plotten der Konfusionsmatrix und Classification report"
   ]
  },
  {
   "cell_type": "code",
   "execution_count": null,
   "id": "c9fc8366",
   "metadata": {},
   "outputs": [],
   "source": [
    "y_test_classes = np.argmax(y_test, axis=1)\n",
    "predictions_classes = np.argmax(predictions, axis=1)"
   ]
  },
  {
   "cell_type": "code",
   "execution_count": null,
   "id": "66df29ed",
   "metadata": {},
   "outputs": [],
   "source": [
    "result = confusion_matrix(y_test_classes, predictions_classes)\n",
    "print(result)\n",
    "disp = ConfusionMatrixDisplay(confusion_matrix=result, display_labels=np.unique(y_test_classes))\n",
    "disp.plot()"
   ]
  },
  {
   "cell_type": "code",
   "execution_count": null,
   "id": "aa9b5dfd",
   "metadata": {},
   "outputs": [],
   "source": [
    "print(classification_report(y_test_classes, predictions_classes))"
   ]
  },
  {
   "attachments": {},
   "cell_type": "markdown",
   "id": "ab8a7029",
   "metadata": {},
   "source": [
    "## Plotten des Fehlers auf den Trainings- und Validierungsdaten"
   ]
  },
  {
   "cell_type": "code",
   "execution_count": 48,
   "id": "7bd35aca",
   "metadata": {},
   "outputs": [
    {
     "data": {
      "image/png": "[encoded data removed]",
      "text/plain": [
       "<Figure size 432x288 with 1 Axes>"
      ]
     },
     "metadata": {
      "needs_background": "light"
     },
     "output_type": "display_data"
    },
    {
     "data": {
      "image/png": "[encoded data removed]",
      "text/plain": [
       "<Figure size 432x288 with 1 Axes>"
      ]
     },
     "metadata": {
      "needs_background": "light"
     },
     "output_type": "display_data"
    }
   ],
   "source": [
    "loss = history.history[\"loss\"]\n",
    "acc = history.history[\"accuracy\"]\n",
    "val_loss = history.history[\"val_loss\"]\n",
    "val_acc = history.history[\"val_accuracy\"]\n",
    "\n",
    "epochs = range(1, len(acc) + 1)\n",
    "\n",
    "plt.plot(epochs, acc, label='Training acc')\n",
    "plt.plot(epochs, val_acc, label='Validation acc')\n",
    "plt.title('Training and validation accuracy')\n",
    "plt.legend()\n",
    "\n",
    "plt.figure()\n",
    "\n",
    "plt.plot(epochs, loss, label='Training loss')\n",
    "plt.plot(epochs, val_loss, label='Validation loss')\n",
    "plt.title('Training and validation loss')\n",
    "plt.legend()\n",
    "\n",
    "plt.show()"
   ]
  }
 ],
 "metadata": {
  "kernelspec": {
   "display_name": "Python 3",
   "language": "python",
   "name": "python3"
  },
  "language_info": {
   "codemirror_mode": {
    "name": "ipython",
    "version": 3
   },
   "file_extension": ".py",
   "mimetype": "text/x-python",
   "name": "python",
   "nbconvert_exporter": "python",
   "pygments_lexer": "ipython3",
   "version": "3.10.4"
  }
 },
 "nbformat": 4,
 "nbformat_minor": 5
}
