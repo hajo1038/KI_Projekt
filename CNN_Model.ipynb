{
 "cells": [
  {
   "cell_type": "code",
   "execution_count": 94,
   "id": "f3cecf93",
   "metadata": {
    "scrolled": true
   },
   "outputs": [],
   "source": [
    "from tensorflow.keras.models import Sequential\n",
    "from tensorflow.keras.layers import Dense, Conv2D, MaxPool2D, Flatten, Resizing, Rescaling, RandomFlip, RandomRotation\n",
    "from tensorflow.keras.losses import CategoricalCrossentropy\n",
    "from sklearn.model_selection import train_test_split\n",
    "import matplotlib.pyplot as plt\n",
    "from glob import glob\n",
    "import os\n",
    "import numpy as np\n",
    "import cv2\n",
    "import pandas as pd"
   ]
  },
  {
   "cell_type": "markdown",
   "id": "ffc629f3",
   "metadata": {},
   "source": [
    "## Laden der Bilder und Label\n",
    "Die Bilder werden als Graustufenbilder in dem Feature-Vektor gespeichert. Dieser hat die Form `(Anzahl Bilder, Pixel_x, Pixel_y, Farbkanäle(1 für Graustufe, 3 für RGB)`.\n",
    "\n",
    "Die Daten werden dann in Trainings-, Validierungs- und Testdatensätze aufgeteilt."
   ]
  },
  {
   "cell_type": "code",
   "execution_count": 75,
   "id": "767090f4",
   "metadata": {},
   "outputs": [],
   "source": [
    "images_list = glob(r\"./data/256_res/*.png\")\n",
    "image_names = [os.path.basename(file) for file in glob('./data/*.png')]\n",
    "features = np.ndarray((len(images_list), 256, 256))\n",
    "for count, image in enumerate(images_list):\n",
    "    im = cv2.imread(image)\n",
    "    gray_image = cv2.cvtColor(im, cv2.COLOR_BGR2GRAY)\n",
    "    features[count, :] = gray_image\n",
    "\n",
    "features = features[:,:,:,np.newaxis]\n",
    "df_labels = pd.read_csv(\"./Labeling_App/Labels.csv\")\n",
    "df_labels = pd.get_dummies(df_labels, columns=[\"label\"])\n",
    "labels = np.array([df_labels[df_labels[\"file\"] == image].iloc[:, 1:] for image in image_names])\n",
    "labels = labels.reshape((labels.shape[0], 15))\n",
    "[X_train, X_test, y_train, y_test] = train_test_split(features, labels, test_size=0.2, random_state=42)\n",
    "[X_train, X_val, y_train, y_val] = train_test_split(X_train, y_train, test_size=0.25, random_state=42)"
   ]
  },
  {
   "cell_type": "code",
   "execution_count": 109,
   "id": "04d88fcd",
   "metadata": {},
   "outputs": [
    {
     "data": {
      "text/plain": [
       "(322, 15)"
      ]
     },
     "execution_count": 109,
     "metadata": {},
     "output_type": "execute_result"
    }
   ],
   "source": [
    "y_train.shape"
   ]
  },
  {
   "cell_type": "code",
   "execution_count": 131,
   "id": "c8c0d5de",
   "metadata": {},
   "outputs": [
    {
     "data": {
      "text/plain": [
       "<BarContainer object of 15 artists>"
      ]
     },
     "execution_count": 131,
     "metadata": {},
     "output_type": "execute_result"
    },
    {
     "data": {
      "image/png": "[encoded data removed]",
      "text/plain": [
       "<Figure size 1080x360 with 3 Axes>"
      ]
     },
     "metadata": {
      "needs_background": "light"
     },
     "output_type": "display_data"
    }
   ],
   "source": [
    "fig, axs = plt.subplots(nrows=1, ncols=3, figsize = (15,5))\n",
    "unique_values_train, value_count_train = np.unique(np.argmax(y_train, axis=1), return_counts=True)\n",
    "unique_values_test, value_count_test = np.unique(np.argmax(y_test, axis=1), return_counts=True)\n",
    "unique_values_val, value_count_val = np.unique(np.argmax(y_val, axis=1), return_counts=True)\n",
    "\n",
    "axs[0].set_xticks(np.unique(np.argmax(y_train, axis=1)))\n",
    "axs[1].set_xticks(np.unique(np.argmax(y_test, axis=1)))\n",
    "axs[2].set_xticks(np.unique(np.argmax(y_val, axis=1)))\n",
    "\n",
    "axs[0].set_title(\"Label-Verteilung Trainingdaten\")\n",
    "axs[1].set_title(\"Label-Verteilung Testdaten\")\n",
    "axs[2].set_title(\"Label-Verteilung Validierungsdaten\")\n",
    "\n",
    "axs[0].bar(unique_values_train, value_count_train)\n",
    "axs[1].bar(unique_values_test, value_count_test)\n",
    "axs[2].bar(unique_values_val, value_count_val)"
   ]
  },
  {
   "cell_type": "markdown",
   "id": "81399b83",
   "metadata": {},
   "source": [
    "## Erstellung von Schichten für Preprocessing\n",
    "`resize_and_rescale` ist eine Schicht mit der die Bilder auf 256x256 skaliert werden und die Pixel-Werte auf den Wertebereich von (-1, 1) skaliert werden\n",
    "\n",
    "`data_augmentation` sorgt dafür, dass die Bilder noch über die horizontale und vertikale Achse gespiegelt werden um mehr Daten zu generieren."
   ]
  },
  {
   "cell_type": "code",
   "execution_count": 87,
   "id": "a3820d51",
   "metadata": {},
   "outputs": [],
   "source": [
    "resize_and_rescale = Sequential([\n",
    "  Resizing(256, 256),\n",
    "  Rescaling(1./127.5, offset=-1) #scale image values to range (-1, 1)\n",
    "])\n",
    "\n",
    "data_augmentation = Sequential([\n",
    "  RandomFlip(\"horizontal_and_vertical\")\n",
    "])"
   ]
  },
  {
   "cell_type": "markdown",
   "id": "2532a597",
   "metadata": {},
   "source": [
    "## Erstellung des CNNs"
   ]
  },
  {
   "cell_type": "code",
   "execution_count": 102,
   "id": "994642cf",
   "metadata": {},
   "outputs": [],
   "source": [
    "model = Sequential()\n",
    "#add model layers\n",
    "model.add(resize_and_rescale)\n",
    "model.add(data_augmentation)\n",
    "model.add(Conv2D(32, kernel_size=3, activation='relu'))\n",
    "model.add(Conv2D(16, kernel_size=3, activation='relu'))\n",
    "model.add(Flatten())\n",
    "model.add(Dense(y_train.shape[1], activation='softmax'))\n",
    "model.compile(optimizer='adam', loss=CategoricalCrossentropy(), metrics=['accuracy'])"
   ]
  },
  {
   "cell_type": "markdown",
   "id": "f82e6f16",
   "metadata": {},
   "source": [
    "## Training des CNNs"
   ]
  },
  {
   "cell_type": "code",
   "execution_count": 103,
   "id": "422b4f84",
   "metadata": {},
   "outputs": [
    {
     "name": "stdout",
     "output_type": "stream",
     "text": [
      "Epoch 1/10\n",
      "65/65 [==============================] - 9s 130ms/step - loss: 7.7532 - accuracy: 0.1087 - val_loss: 2.6714 - val_accuracy: 0.0741\n",
      "Epoch 2/10\n",
      "65/65 [==============================] - 8s 126ms/step - loss: 2.5291 - accuracy: 0.1491 - val_loss: 2.6082 - val_accuracy: 0.1574\n",
      "Epoch 3/10\n",
      "65/65 [==============================] - 8s 126ms/step - loss: 2.2146 - accuracy: 0.3447 - val_loss: 2.5587 - val_accuracy: 0.1204\n",
      "Epoch 4/10\n",
      "65/65 [==============================] - 8s 125ms/step - loss: 1.6370 - accuracy: 0.5683 - val_loss: 2.5123 - val_accuracy: 0.1389\n",
      "Epoch 5/10\n",
      "65/65 [==============================] - 8s 127ms/step - loss: 1.0263 - accuracy: 0.7019 - val_loss: 2.6017 - val_accuracy: 0.2037\n",
      "Epoch 6/10\n",
      "65/65 [==============================] - 8s 129ms/step - loss: 0.7954 - accuracy: 0.7919 - val_loss: 2.6507 - val_accuracy: 0.1759\n",
      "Epoch 7/10\n",
      "65/65 [==============================] - 8s 127ms/step - loss: 0.7575 - accuracy: 0.7981 - val_loss: 2.5397 - val_accuracy: 0.1944\n",
      "Epoch 8/10\n",
      "65/65 [==============================] - 8s 129ms/step - loss: 0.4705 - accuracy: 0.8727 - val_loss: 2.6495 - val_accuracy: 0.2037\n",
      "Epoch 9/10\n",
      "65/65 [==============================] - 8s 128ms/step - loss: 0.2602 - accuracy: 0.9193 - val_loss: 3.0935 - val_accuracy: 0.2130\n",
      "Epoch 10/10\n",
      "65/65 [==============================] - 8s 125ms/step - loss: 0.2971 - accuracy: 0.9255 - val_loss: 2.8115 - val_accuracy: 0.1759\n"
     ]
    }
   ],
   "source": [
    "history = model.fit(X_train, y_train, validation_data=(X_val, y_val), epochs=10, batch_size = 5)"
   ]
  },
  {
   "cell_type": "code",
   "execution_count": 100,
   "id": "f2acca75",
   "metadata": {
    "scrolled": true
   },
   "outputs": [
    {
     "name": "stdout",
     "output_type": "stream",
     "text": [
      "4/4 [==============================] - 1s 81ms/step - loss: 3.5339 - accuracy: 0.2315\n"
     ]
    },
    {
     "data": {
      "text/plain": [
       "[3.5339035987854004, 0.23148147761821747]"
      ]
     },
     "execution_count": 100,
     "metadata": {},
     "output_type": "execute_result"
    }
   ],
   "source": [
    "model.evaluate(X_test, y_test)"
   ]
  },
  {
   "cell_type": "markdown",
   "id": "fa313ff5",
   "metadata": {},
   "source": [
    "## Plotten des Fehlers auf den Trainings- und Validierungsdaten"
   ]
  },
  {
   "cell_type": "code",
   "execution_count": 95,
   "id": "066b0222",
   "metadata": {},
   "outputs": [
    {
     "data": {
      "image/png": "[encoded data removed]",
      "text/plain": [
       "<Figure size 432x288 with 1 Axes>"
      ]
     },
     "metadata": {
      "needs_background": "light"
     },
     "output_type": "display_data"
    },
    {
     "data": {
      "image/png": "[encoded data removed]",
      "text/plain": [
       "<Figure size 432x288 with 1 Axes>"
      ]
     },
     "metadata": {
      "needs_background": "light"
     },
     "output_type": "display_data"
    }
   ],
   "source": [
    "loss = history.history[\"loss\"]\n",
    "acc = history.history[\"accuracy\"]\n",
    "val_loss = history.history[\"val_loss\"]\n",
    "val_acc = history.history[\"val_accuracy\"]\n",
    "\n",
    "epochs = range(1, len(acc) + 1)\n",
    "\n",
    "plt.plot(epochs, acc, label='Training acc')\n",
    "plt.plot(epochs, val_acc, label='Validation acc')\n",
    "plt.title('Training and validation accuracy')\n",
    "plt.legend()\n",
    "\n",
    "plt.figure()\n",
    "\n",
    "plt.plot(epochs, loss, label='Training loss')\n",
    "plt.plot(epochs, val_loss, label='Validation loss')\n",
    "plt.title('Training and validation loss')\n",
    "plt.legend()\n",
    "\n",
    "plt.show()\n"
   ]
  }
 ],
 "metadata": {
  "kernelspec": {
   "display_name": "Python [conda env:tf_mac_env] *",
   "language": "python",
   "name": "conda-env-tf_mac_env-py"
  },
  "language_info": {
   "codemirror_mode": {
    "name": "ipython",
    "version": 3
   },
   "file_extension": ".py",
   "mimetype": "text/x-python",
   "name": "python",
   "nbconvert_exporter": "python",
   "pygments_lexer": "ipython3",
   "version": "3.9.16"
  }
 },
 "nbformat": 4,
 "nbformat_minor": 5
}
