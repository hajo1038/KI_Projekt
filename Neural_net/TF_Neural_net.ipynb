{
 "cells": [
  {
   "cell_type": "code",
   "execution_count": 100,
   "id": "cb1a0f8d",
   "metadata": {
    "scrolled": true
   },
   "outputs": [],
   "source": [
    "from tensorflow.keras.models import Sequential\n",
    "from tensorflow.keras.layers import Dense, Dropout\n",
    "from tensorflow.keras.losses import CategoricalCrossentropy\n",
    "from sklearn.model_selection import train_test_split\n",
    "from sklearn.metrics import classification_report\n",
    "import matplotlib.pyplot as plt\n",
    "import numpy as np\n",
    "import cv2\n",
    "import pandas as pd\n",
    "\n",
    "import sys\n",
    "sys.path.insert(0, '/Users/jonathanhaller/Documents/Studium/Master/Verfahren_der_KI/KI_Projekt/repo/KI_Projekt/Neural_net')\n",
    "from main import load_ritter_sport_xy, get_mean_error"
   ]
  },
  {
   "cell_type": "code",
   "execution_count": 63,
   "id": "5a021aa2",
   "metadata": {},
   "outputs": [],
   "source": [
    "X_train, X_test, y_train, y_test = load_ritter_sport_xy(\"../Image_proc/data_with_features_with_colour.csv\")\n",
    "X_train, X_val, y_train, y_val = train_test_split(X_train, y_train, test_size=0.15, random_state=0)\n",
    "train_mean = np.mean(X_train)\n",
    "train_std = np.std(X_train)\n",
    "X_train = (X_train - train_mean) / train_std\n",
    "X_test = (X_test - train_mean) / train_std\n",
    "X_val = (X_val - train_mean) / train_std"
   ]
  },
  {
   "cell_type": "code",
   "execution_count": 94,
   "id": "8467b3d6",
   "metadata": {},
   "outputs": [],
   "source": [
    "model = Sequential()\n",
    "model.add(Dense(X_train.shape[1]))\n",
    "model.add(Dense(128))\n",
    "model.add(Dropout(0.2))\n",
    "model.add(Dense(64))\n",
    "model.add(Dense(y_train.shape[1], activation='softmax'))\n",
    "model.compile(optimizer='adam', loss=CategoricalCrossentropy(), metrics=['accuracy'])"
   ]
  },
  {
   "cell_type": "code",
   "execution_count": 95,
   "id": "b6931d92",
   "metadata": {
    "scrolled": true
   },
   "outputs": [
    {
     "name": "stdout",
     "output_type": "stream",
     "text": [
      "Epoch 1/120\n",
      "64/64 [==============================] - 1s 16ms/step - loss: 2.5208 - accuracy: 0.1306 - val_loss: 2.3759 - val_accuracy: 0.1444\n",
      "Epoch 2/120\n",
      "64/64 [==============================] - 1s 13ms/step - loss: 2.3120 - accuracy: 0.1919 - val_loss: 2.2988 - val_accuracy: 0.1806\n",
      "Epoch 3/120\n",
      "64/64 [==============================] - 1s 13ms/step - loss: 2.2768 - accuracy: 0.2003 - val_loss: 2.2801 - val_accuracy: 0.1806\n",
      "Epoch 4/120\n",
      "64/64 [==============================] - 1s 14ms/step - loss: 2.2588 - accuracy: 0.2116 - val_loss: 2.2714 - val_accuracy: 0.2139\n",
      "Epoch 5/120\n",
      "64/64 [==============================] - 1s 14ms/step - loss: 2.2628 - accuracy: 0.2126 - val_loss: 2.2790 - val_accuracy: 0.1778\n",
      "Epoch 6/120\n",
      "64/64 [==============================] - 1s 12ms/step - loss: 2.2532 - accuracy: 0.2081 - val_loss: 2.2698 - val_accuracy: 0.1889\n",
      "Epoch 7/120\n",
      "64/64 [==============================] - 1s 12ms/step - loss: 2.2545 - accuracy: 0.2091 - val_loss: 2.2622 - val_accuracy: 0.2000\n",
      "Epoch 8/120\n",
      "64/64 [==============================] - 1s 12ms/step - loss: 2.2536 - accuracy: 0.2091 - val_loss: 2.2647 - val_accuracy: 0.2028\n",
      "Epoch 9/120\n",
      "64/64 [==============================] - 1s 13ms/step - loss: 2.2525 - accuracy: 0.2180 - val_loss: 2.2700 - val_accuracy: 0.1861\n",
      "Epoch 10/120\n",
      "64/64 [==============================] - 1s 13ms/step - loss: 2.2445 - accuracy: 0.2111 - val_loss: 2.2566 - val_accuracy: 0.2083\n",
      "Epoch 11/120\n",
      "64/64 [==============================] - 1s 12ms/step - loss: 2.2462 - accuracy: 0.2140 - val_loss: 2.2709 - val_accuracy: 0.2167\n",
      "Epoch 12/120\n",
      "64/64 [==============================] - 1s 12ms/step - loss: 2.2520 - accuracy: 0.2194 - val_loss: 2.2574 - val_accuracy: 0.1944\n",
      "Epoch 13/120\n",
      "64/64 [==============================] - 1s 12ms/step - loss: 2.2439 - accuracy: 0.2165 - val_loss: 2.2666 - val_accuracy: 0.2167\n",
      "Epoch 14/120\n",
      "64/64 [==============================] - 1s 12ms/step - loss: 2.2476 - accuracy: 0.2101 - val_loss: 2.2560 - val_accuracy: 0.1833\n",
      "Epoch 15/120\n",
      "64/64 [==============================] - 1s 12ms/step - loss: 2.2418 - accuracy: 0.2219 - val_loss: 2.2623 - val_accuracy: 0.2278\n",
      "Epoch 16/120\n",
      "64/64 [==============================] - 1s 12ms/step - loss: 2.2287 - accuracy: 0.2302 - val_loss: 2.2556 - val_accuracy: 0.1917\n",
      "Epoch 17/120\n",
      "64/64 [==============================] - 1s 12ms/step - loss: 2.2420 - accuracy: 0.2116 - val_loss: 2.2529 - val_accuracy: 0.2111\n",
      "Epoch 18/120\n",
      "64/64 [==============================] - 1s 12ms/step - loss: 2.2345 - accuracy: 0.2288 - val_loss: 2.2471 - val_accuracy: 0.2222\n",
      "Epoch 19/120\n",
      "64/64 [==============================] - 1s 12ms/step - loss: 2.2291 - accuracy: 0.2224 - val_loss: 2.2851 - val_accuracy: 0.2083\n",
      "Epoch 20/120\n",
      "64/64 [==============================] - 1s 12ms/step - loss: 2.2376 - accuracy: 0.2204 - val_loss: 2.2565 - val_accuracy: 0.2056\n",
      "Epoch 21/120\n",
      "64/64 [==============================] - 1s 12ms/step - loss: 2.2345 - accuracy: 0.2140 - val_loss: 2.2462 - val_accuracy: 0.2167\n",
      "Epoch 22/120\n",
      "64/64 [==============================] - 1s 12ms/step - loss: 2.2248 - accuracy: 0.2317 - val_loss: 2.2415 - val_accuracy: 0.2250\n",
      "Epoch 23/120\n",
      "64/64 [==============================] - 1s 12ms/step - loss: 2.2247 - accuracy: 0.2224 - val_loss: 2.2496 - val_accuracy: 0.2000\n",
      "Epoch 24/120\n",
      "64/64 [==============================] - 1s 12ms/step - loss: 2.2266 - accuracy: 0.2229 - val_loss: 2.2412 - val_accuracy: 0.2028\n",
      "Epoch 25/120\n",
      "64/64 [==============================] - 1s 14ms/step - loss: 2.2171 - accuracy: 0.2302 - val_loss: 2.2372 - val_accuracy: 0.2222\n",
      "Epoch 26/120\n",
      "64/64 [==============================] - 1s 14ms/step - loss: 2.2192 - accuracy: 0.2288 - val_loss: 2.2346 - val_accuracy: 0.2056\n",
      "Epoch 27/120\n",
      "64/64 [==============================] - 1s 15ms/step - loss: 2.2186 - accuracy: 0.2327 - val_loss: 2.2400 - val_accuracy: 0.2361\n",
      "Epoch 28/120\n",
      "64/64 [==============================] - 1s 13ms/step - loss: 2.2079 - accuracy: 0.2293 - val_loss: 2.2457 - val_accuracy: 0.2250\n",
      "Epoch 29/120\n",
      "64/64 [==============================] - 1s 12ms/step - loss: 2.2101 - accuracy: 0.2391 - val_loss: 2.2300 - val_accuracy: 0.2250\n",
      "Epoch 30/120\n",
      "64/64 [==============================] - 1s 13ms/step - loss: 2.2053 - accuracy: 0.2204 - val_loss: 2.2540 - val_accuracy: 0.1917\n",
      "Epoch 31/120\n",
      "64/64 [==============================] - 1s 13ms/step - loss: 2.2041 - accuracy: 0.2307 - val_loss: 2.2344 - val_accuracy: 0.2111\n",
      "Epoch 32/120\n",
      "64/64 [==============================] - 1s 12ms/step - loss: 2.1984 - accuracy: 0.2361 - val_loss: 2.2417 - val_accuracy: 0.2417\n",
      "Epoch 33/120\n",
      "64/64 [==============================] - 1s 12ms/step - loss: 2.1926 - accuracy: 0.2563 - val_loss: 2.2240 - val_accuracy: 0.2472\n",
      "Epoch 34/120\n",
      "64/64 [==============================] - 1s 12ms/step - loss: 2.1931 - accuracy: 0.2558 - val_loss: 2.2182 - val_accuracy: 0.2528\n",
      "Epoch 35/120\n",
      "64/64 [==============================] - 1s 12ms/step - loss: 2.1883 - accuracy: 0.2415 - val_loss: 2.2284 - val_accuracy: 0.2194\n",
      "Epoch 36/120\n",
      "64/64 [==============================] - 1s 12ms/step - loss: 2.1812 - accuracy: 0.2587 - val_loss: 2.2142 - val_accuracy: 0.2333\n",
      "Epoch 37/120\n",
      "64/64 [==============================] - 1s 12ms/step - loss: 2.1735 - accuracy: 0.2528 - val_loss: 2.2252 - val_accuracy: 0.2361\n",
      "Epoch 38/120\n",
      "64/64 [==============================] - 1s 11ms/step - loss: 2.1742 - accuracy: 0.2734 - val_loss: 2.2454 - val_accuracy: 0.1972\n",
      "Epoch 39/120\n",
      "64/64 [==============================] - 1s 11ms/step - loss: 2.1703 - accuracy: 0.2592 - val_loss: 2.2221 - val_accuracy: 0.2694\n",
      "Epoch 40/120\n",
      "64/64 [==============================] - 1s 11ms/step - loss: 2.1626 - accuracy: 0.2641 - val_loss: 2.2206 - val_accuracy: 0.2694\n",
      "Epoch 41/120\n",
      "64/64 [==============================] - 1s 11ms/step - loss: 2.1600 - accuracy: 0.2646 - val_loss: 2.2208 - val_accuracy: 0.2222\n",
      "Epoch 42/120\n",
      "64/64 [==============================] - 1s 11ms/step - loss: 2.1510 - accuracy: 0.2744 - val_loss: 2.2223 - val_accuracy: 0.2417\n",
      "Epoch 43/120\n",
      "64/64 [==============================] - 1s 11ms/step - loss: 2.1550 - accuracy: 0.2759 - val_loss: 2.2187 - val_accuracy: 0.2639\n",
      "Epoch 44/120\n",
      "64/64 [==============================] - 1s 11ms/step - loss: 2.1468 - accuracy: 0.2671 - val_loss: 2.2398 - val_accuracy: 0.2444\n",
      "Epoch 45/120\n",
      "64/64 [==============================] - 1s 11ms/step - loss: 2.1390 - accuracy: 0.2700 - val_loss: 2.2177 - val_accuracy: 0.2556\n",
      "Epoch 46/120\n",
      "64/64 [==============================] - 1s 11ms/step - loss: 2.1368 - accuracy: 0.2803 - val_loss: 2.2290 - val_accuracy: 0.2500\n",
      "Epoch 47/120\n",
      "64/64 [==============================] - 1s 11ms/step - loss: 2.1305 - accuracy: 0.2818 - val_loss: 2.2476 - val_accuracy: 0.2111\n",
      "Epoch 48/120\n",
      "64/64 [==============================] - 1s 14ms/step - loss: 2.1387 - accuracy: 0.2788 - val_loss: 2.2327 - val_accuracy: 0.2278\n",
      "Epoch 49/120\n",
      "64/64 [==============================] - 1s 12ms/step - loss: 2.1284 - accuracy: 0.2651 - val_loss: 2.2294 - val_accuracy: 0.2667\n",
      "Epoch 50/120\n",
      "64/64 [==============================] - 1s 12ms/step - loss: 2.1298 - accuracy: 0.2877 - val_loss: 2.2592 - val_accuracy: 0.2139\n",
      "Epoch 51/120\n",
      "64/64 [==============================] - 1s 11ms/step - loss: 2.1226 - accuracy: 0.2862 - val_loss: 2.2374 - val_accuracy: 0.2500\n",
      "Epoch 52/120\n",
      "64/64 [==============================] - 1s 12ms/step - loss: 2.1087 - accuracy: 0.2857 - val_loss: 2.2372 - val_accuracy: 0.2583\n",
      "Epoch 53/120\n",
      "64/64 [==============================] - 1s 12ms/step - loss: 2.1101 - accuracy: 0.2946 - val_loss: 2.2410 - val_accuracy: 0.2389\n",
      "Epoch 54/120\n",
      "64/64 [==============================] - 1s 15ms/step - loss: 2.1036 - accuracy: 0.2946 - val_loss: 2.2427 - val_accuracy: 0.2722\n",
      "Epoch 55/120\n",
      "64/64 [==============================] - 1s 13ms/step - loss: 2.1051 - accuracy: 0.2960 - val_loss: 2.2544 - val_accuracy: 0.2444\n",
      "Epoch 56/120\n",
      "64/64 [==============================] - 1s 13ms/step - loss: 2.1014 - accuracy: 0.2813 - val_loss: 2.2388 - val_accuracy: 0.2944\n",
      "Epoch 57/120\n",
      "64/64 [==============================] - 1s 12ms/step - loss: 2.1001 - accuracy: 0.3044 - val_loss: 2.2509 - val_accuracy: 0.2694\n",
      "Epoch 58/120\n"
     ]
    },
    {
     "name": "stdout",
     "output_type": "stream",
     "text": [
      "64/64 [==============================] - 1s 12ms/step - loss: 2.0951 - accuracy: 0.2882 - val_loss: 2.2633 - val_accuracy: 0.2361\n",
      "Epoch 59/120\n",
      "64/64 [==============================] - 1s 12ms/step - loss: 2.0997 - accuracy: 0.2970 - val_loss: 2.2958 - val_accuracy: 0.2194\n",
      "Epoch 60/120\n",
      "64/64 [==============================] - 1s 12ms/step - loss: 2.1064 - accuracy: 0.2936 - val_loss: 2.2483 - val_accuracy: 0.3417\n",
      "Epoch 61/120\n",
      "64/64 [==============================] - 1s 12ms/step - loss: 2.0844 - accuracy: 0.2990 - val_loss: 2.2512 - val_accuracy: 0.3111\n",
      "Epoch 62/120\n",
      "64/64 [==============================] - 1s 13ms/step - loss: 2.0834 - accuracy: 0.3058 - val_loss: 2.2556 - val_accuracy: 0.2917\n",
      "Epoch 63/120\n",
      "64/64 [==============================] - 1s 12ms/step - loss: 2.0972 - accuracy: 0.3054 - val_loss: 2.3188 - val_accuracy: 0.2861\n",
      "Epoch 64/120\n",
      "64/64 [==============================] - 1s 13ms/step - loss: 2.0973 - accuracy: 0.2980 - val_loss: 2.2541 - val_accuracy: 0.2667\n",
      "Epoch 65/120\n",
      "64/64 [==============================] - 1s 12ms/step - loss: 2.0906 - accuracy: 0.3009 - val_loss: 2.2595 - val_accuracy: 0.3000\n",
      "Epoch 66/120\n",
      "64/64 [==============================] - 1s 13ms/step - loss: 2.0938 - accuracy: 0.2941 - val_loss: 2.2642 - val_accuracy: 0.2611\n",
      "Epoch 67/120\n",
      "64/64 [==============================] - 1s 12ms/step - loss: 2.0915 - accuracy: 0.2896 - val_loss: 2.2855 - val_accuracy: 0.2472\n",
      "Epoch 68/120\n",
      "64/64 [==============================] - 1s 13ms/step - loss: 2.0809 - accuracy: 0.3029 - val_loss: 2.2652 - val_accuracy: 0.2833\n",
      "Epoch 69/120\n",
      "64/64 [==============================] - 1s 19ms/step - loss: 2.0895 - accuracy: 0.2960 - val_loss: 2.2917 - val_accuracy: 0.2389\n",
      "Epoch 70/120\n",
      "64/64 [==============================] - 1s 17ms/step - loss: 2.0853 - accuracy: 0.3196 - val_loss: 2.2918 - val_accuracy: 0.3028\n",
      "Epoch 71/120\n",
      "64/64 [==============================] - 1s 14ms/step - loss: 2.0918 - accuracy: 0.3054 - val_loss: 2.2741 - val_accuracy: 0.2611\n",
      "Epoch 72/120\n",
      "64/64 [==============================] - 1s 14ms/step - loss: 2.0804 - accuracy: 0.3000 - val_loss: 2.2639 - val_accuracy: 0.2889\n",
      "Epoch 73/120\n",
      "64/64 [==============================] - 1s 13ms/step - loss: 2.0799 - accuracy: 0.3098 - val_loss: 2.2681 - val_accuracy: 0.2917\n",
      "Epoch 74/120\n",
      "64/64 [==============================] - 1s 12ms/step - loss: 2.0757 - accuracy: 0.3196 - val_loss: 2.2749 - val_accuracy: 0.2333\n",
      "Epoch 75/120\n",
      "64/64 [==============================] - 1s 12ms/step - loss: 2.0817 - accuracy: 0.2965 - val_loss: 2.3177 - val_accuracy: 0.2278\n",
      "Epoch 76/120\n",
      "64/64 [==============================] - 1s 12ms/step - loss: 2.0769 - accuracy: 0.3034 - val_loss: 2.2952 - val_accuracy: 0.2250\n",
      "Epoch 77/120\n",
      "64/64 [==============================] - 1s 12ms/step - loss: 2.0976 - accuracy: 0.3009 - val_loss: 2.2916 - val_accuracy: 0.2417\n",
      "Epoch 78/120\n",
      "64/64 [==============================] - 1s 12ms/step - loss: 2.0755 - accuracy: 0.3196 - val_loss: 2.2720 - val_accuracy: 0.2611\n",
      "Epoch 79/120\n",
      "64/64 [==============================] - 1s 12ms/step - loss: 2.0813 - accuracy: 0.2995 - val_loss: 2.2613 - val_accuracy: 0.3139\n",
      "Epoch 80/120\n",
      "64/64 [==============================] - 1s 12ms/step - loss: 2.0812 - accuracy: 0.3147 - val_loss: 2.2662 - val_accuracy: 0.2806\n",
      "Epoch 81/120\n",
      "64/64 [==============================] - 1s 12ms/step - loss: 2.0757 - accuracy: 0.2960 - val_loss: 2.2863 - val_accuracy: 0.3194\n",
      "Epoch 82/120\n",
      "64/64 [==============================] - 1s 12ms/step - loss: 2.0790 - accuracy: 0.3260 - val_loss: 2.3400 - val_accuracy: 0.2861\n",
      "Epoch 83/120\n",
      "64/64 [==============================] - 1s 12ms/step - loss: 2.0795 - accuracy: 0.3103 - val_loss: 2.2726 - val_accuracy: 0.3000\n",
      "Epoch 84/120\n",
      "64/64 [==============================] - 1s 12ms/step - loss: 2.0706 - accuracy: 0.3039 - val_loss: 2.2745 - val_accuracy: 0.2722\n",
      "Epoch 85/120\n",
      "64/64 [==============================] - 1s 12ms/step - loss: 2.0806 - accuracy: 0.3073 - val_loss: 2.3024 - val_accuracy: 0.3139\n",
      "Epoch 86/120\n",
      "64/64 [==============================] - 1s 12ms/step - loss: 2.0745 - accuracy: 0.3166 - val_loss: 2.2777 - val_accuracy: 0.2694\n",
      "Epoch 87/120\n",
      "64/64 [==============================] - 1s 12ms/step - loss: 2.0718 - accuracy: 0.3117 - val_loss: 2.2715 - val_accuracy: 0.2917\n",
      "Epoch 88/120\n",
      "64/64 [==============================] - 1s 12ms/step - loss: 2.0755 - accuracy: 0.3049 - val_loss: 2.2813 - val_accuracy: 0.2750\n",
      "Epoch 89/120\n",
      "64/64 [==============================] - 1s 13ms/step - loss: 2.0845 - accuracy: 0.2901 - val_loss: 2.2724 - val_accuracy: 0.3056\n",
      "Epoch 90/120\n",
      "64/64 [==============================] - 1s 14ms/step - loss: 2.0680 - accuracy: 0.3024 - val_loss: 2.3527 - val_accuracy: 0.2472\n",
      "Epoch 91/120\n",
      "64/64 [==============================] - 1s 12ms/step - loss: 2.0816 - accuracy: 0.3186 - val_loss: 2.2926 - val_accuracy: 0.2722\n",
      "Epoch 92/120\n",
      "64/64 [==============================] - 1s 12ms/step - loss: 2.0743 - accuracy: 0.3044 - val_loss: 2.2812 - val_accuracy: 0.2806\n",
      "Epoch 93/120\n",
      "64/64 [==============================] - 1s 12ms/step - loss: 2.0787 - accuracy: 0.3127 - val_loss: 2.3122 - val_accuracy: 0.2278\n",
      "Epoch 94/120\n",
      "64/64 [==============================] - 1s 15ms/step - loss: 2.0792 - accuracy: 0.3068 - val_loss: 2.2923 - val_accuracy: 0.2806\n",
      "Epoch 95/120\n",
      "64/64 [==============================] - 1s 13ms/step - loss: 2.0684 - accuracy: 0.3117 - val_loss: 2.3410 - val_accuracy: 0.2056\n",
      "Epoch 96/120\n",
      "64/64 [==============================] - 1s 13ms/step - loss: 2.0797 - accuracy: 0.2990 - val_loss: 2.3253 - val_accuracy: 0.2972\n",
      "Epoch 97/120\n",
      "64/64 [==============================] - 1s 13ms/step - loss: 2.0722 - accuracy: 0.3132 - val_loss: 2.2831 - val_accuracy: 0.3194\n",
      "Epoch 98/120\n",
      "64/64 [==============================] - 1s 12ms/step - loss: 2.0768 - accuracy: 0.3166 - val_loss: 2.2836 - val_accuracy: 0.3250\n",
      "Epoch 99/120\n",
      "64/64 [==============================] - 1s 12ms/step - loss: 2.0703 - accuracy: 0.3147 - val_loss: 2.2753 - val_accuracy: 0.2972\n",
      "Epoch 100/120\n",
      "64/64 [==============================] - 1s 12ms/step - loss: 2.0687 - accuracy: 0.3152 - val_loss: 2.2877 - val_accuracy: 0.2944\n",
      "Epoch 101/120\n",
      "64/64 [==============================] - 1s 12ms/step - loss: 2.0791 - accuracy: 0.3009 - val_loss: 2.2874 - val_accuracy: 0.2667\n",
      "Epoch 102/120\n",
      "64/64 [==============================] - 1s 12ms/step - loss: 2.0739 - accuracy: 0.3054 - val_loss: 2.3162 - val_accuracy: 0.3194\n",
      "Epoch 103/120\n",
      "64/64 [==============================] - 1s 13ms/step - loss: 2.0710 - accuracy: 0.3034 - val_loss: 2.2910 - val_accuracy: 0.2639\n",
      "Epoch 104/120\n",
      "64/64 [==============================] - 1s 12ms/step - loss: 2.0649 - accuracy: 0.3137 - val_loss: 2.3017 - val_accuracy: 0.2750\n",
      "Epoch 105/120\n",
      "64/64 [==============================] - 1s 12ms/step - loss: 2.0652 - accuracy: 0.3274 - val_loss: 2.2794 - val_accuracy: 0.3444\n",
      "Epoch 106/120\n",
      "64/64 [==============================] - 1s 13ms/step - loss: 2.0696 - accuracy: 0.3220 - val_loss: 2.2955 - val_accuracy: 0.2333\n",
      "Epoch 107/120\n",
      "64/64 [==============================] - 1s 12ms/step - loss: 2.0766 - accuracy: 0.3054 - val_loss: 2.2962 - val_accuracy: 0.2611\n",
      "Epoch 108/120\n",
      "64/64 [==============================] - 1s 13ms/step - loss: 2.0810 - accuracy: 0.3054 - val_loss: 2.3212 - val_accuracy: 0.3139\n",
      "Epoch 109/120\n",
      "64/64 [==============================] - 1s 12ms/step - loss: 2.0852 - accuracy: 0.3039 - val_loss: 2.2798 - val_accuracy: 0.2806\n",
      "Epoch 110/120\n",
      "64/64 [==============================] - 1s 12ms/step - loss: 2.0725 - accuracy: 0.3029 - val_loss: 2.2868 - val_accuracy: 0.3083\n",
      "Epoch 111/120\n",
      "64/64 [==============================] - 1s 12ms/step - loss: 2.0581 - accuracy: 0.3191 - val_loss: 2.2853 - val_accuracy: 0.2778\n",
      "Epoch 112/120\n",
      "64/64 [==============================] - 1s 12ms/step - loss: 2.0758 - accuracy: 0.3083 - val_loss: 2.2788 - val_accuracy: 0.2972\n",
      "Epoch 113/120\n",
      "64/64 [==============================] - 1s 12ms/step - loss: 2.0722 - accuracy: 0.3220 - val_loss: 2.2762 - val_accuracy: 0.2861\n",
      "Epoch 114/120\n",
      "64/64 [==============================] - 1s 12ms/step - loss: 2.0681 - accuracy: 0.3063 - val_loss: 2.2923 - val_accuracy: 0.2583\n",
      "Epoch 115/120\n"
     ]
    },
    {
     "name": "stdout",
     "output_type": "stream",
     "text": [
      "64/64 [==============================] - 1s 12ms/step - loss: 2.0717 - accuracy: 0.3176 - val_loss: 2.2908 - val_accuracy: 0.2667\n",
      "Epoch 116/120\n",
      "64/64 [==============================] - 1s 12ms/step - loss: 2.0763 - accuracy: 0.3093 - val_loss: 2.2739 - val_accuracy: 0.2944\n",
      "Epoch 117/120\n",
      "64/64 [==============================] - 1s 12ms/step - loss: 2.0692 - accuracy: 0.2995 - val_loss: 2.2829 - val_accuracy: 0.2583\n",
      "Epoch 118/120\n",
      "64/64 [==============================] - 1s 12ms/step - loss: 2.0741 - accuracy: 0.3044 - val_loss: 2.2717 - val_accuracy: 0.2722\n",
      "Epoch 119/120\n",
      "64/64 [==============================] - 1s 12ms/step - loss: 2.0756 - accuracy: 0.3162 - val_loss: 2.2831 - val_accuracy: 0.2667\n",
      "Epoch 120/120\n",
      "64/64 [==============================] - 1s 12ms/step - loss: 2.0728 - accuracy: 0.2995 - val_loss: 2.2735 - val_accuracy: 0.3167\n"
     ]
    }
   ],
   "source": [
    "history = model.fit(X_train, y_train, epochs=120, validation_data=(X_val, y_val), batch_size = 32)"
   ]
  },
  {
   "cell_type": "code",
   "execution_count": 96,
   "id": "21e21846",
   "metadata": {
    "scrolled": true
   },
   "outputs": [
    {
     "name": "stdout",
     "output_type": "stream",
     "text": [
      "19/19 [==============================] - 0s 10ms/step - loss: 2.1186 - accuracy: 0.3267\n"
     ]
    },
    {
     "data": {
      "text/plain": [
       "[2.1185872554779053, 0.3266666829586029]"
      ]
     },
     "execution_count": 96,
     "metadata": {},
     "output_type": "execute_result"
    }
   ],
   "source": [
    "model.evaluate(X_test, y_test)"
   ]
  },
  {
   "cell_type": "code",
   "execution_count": 98,
   "id": "eed0b71e",
   "metadata": {},
   "outputs": [
    {
     "data": {
      "image/png": "[encoded data removed]",
      "text/plain": [
       "<Figure size 432x288 with 1 Axes>"
      ]
     },
     "metadata": {
      "needs_background": "light"
     },
     "output_type": "display_data"
    },
    {
     "data": {
      "image/png": "[encoded data removed]",
      "text/plain": [
       "<Figure size 432x288 with 1 Axes>"
      ]
     },
     "metadata": {
      "needs_background": "light"
     },
     "output_type": "display_data"
    }
   ],
   "source": [
    "loss = history.history[\"loss\"]\n",
    "acc = history.history[\"accuracy\"]\n",
    "val_loss = history.history[\"val_loss\"]\n",
    "val_acc = history.history[\"val_accuracy\"]\n",
    "\n",
    "epochs = range(1, len(acc) + 1)\n",
    "\n",
    "plt.plot(epochs, acc, label='Training acc')\n",
    "plt.plot(epochs, val_acc, label='Validation acc')\n",
    "plt.title('Training and validation accuracy')\n",
    "plt.legend()\n",
    "\n",
    "plt.figure()\n",
    "\n",
    "plt.plot(epochs, loss, label='Training loss')\n",
    "plt.plot(epochs, val_loss, label='Validation loss')\n",
    "plt.title('Training and validation loss')\n",
    "plt.legend()\n",
    "plt.savefig(\"NN_TF_loss.svg\")\n",
    "\n",
    "plt.show()"
   ]
  },
  {
   "cell_type": "code",
   "execution_count": 108,
   "id": "d1cebe18",
   "metadata": {},
   "outputs": [],
   "source": [
    "model.save('my_model.h5')"
   ]
  },
  {
   "cell_type": "code",
   "execution_count": 104,
   "id": "b60c8807",
   "metadata": {},
   "outputs": [
    {
     "name": "stdout",
     "output_type": "stream",
     "text": [
      "19/19 [==============================] - 0s 4ms/step\n"
     ]
    },
    {
     "data": {
      "text/plain": [
       "array([[2.84405299e-08, 2.23708394e-05, 4.57728142e-03, ...,\n",
       "        1.03489205e-01, 4.07803878e-02, 4.56935838e-02],\n",
       "       [7.62145646e-05, 8.17762595e-03, 7.51147345e-02, ...,\n",
       "        4.32841368e-02, 1.26364194e-02, 1.30834468e-02],\n",
       "       [2.93551493e-05, 4.40234464e-04, 2.16372758e-02, ...,\n",
       "        1.52636711e-02, 5.57414722e-04, 1.06379972e-03],\n",
       "       ...,\n",
       "       [2.16019690e-01, 2.94028461e-01, 1.75758183e-01, ...,\n",
       "        8.67061666e-04, 2.83862973e-05, 4.46784579e-05],\n",
       "       [1.26140449e-08, 1.12604757e-05, 3.31598381e-03, ...,\n",
       "        1.09085470e-01, 4.12646607e-02, 4.75920476e-02],\n",
       "       [7.79310521e-03, 1.03756398e-01, 2.10296512e-01, ...,\n",
       "        1.05445050e-02, 1.16856396e-03, 1.43451185e-03]], dtype=float32)"
      ]
     },
     "execution_count": 104,
     "metadata": {},
     "output_type": "execute_result"
    }
   ],
   "source": [
    "model.predict(X_test)"
   ]
  },
  {
   "cell_type": "code",
   "execution_count": 107,
   "id": "70f52b7f",
   "metadata": {},
   "outputs": [
    {
     "name": "stdout",
     "output_type": "stream",
     "text": [
      "19/19 [==============================] - 0s 3ms/step\n",
      "              precision    recall  f1-score   support\n",
      "\n",
      "           0       0.83      0.81      0.82        31\n",
      "           1       0.46      0.77      0.58        39\n",
      "           2       0.36      0.30      0.33        43\n",
      "           3       0.23      0.27      0.25        45\n",
      "           4       0.00      0.00      0.00        43\n",
      "           5       0.36      0.66      0.47        41\n",
      "           6       0.75      0.07      0.12        44\n",
      "           7       0.21      0.70      0.32        33\n",
      "           8       0.00      0.00      0.00        45\n",
      "           9       0.00      0.00      0.00        39\n",
      "          10       0.23      0.47      0.31        32\n",
      "          11       0.67      0.05      0.10        38\n",
      "          12       0.32      0.51      0.39        35\n",
      "          13       0.30      0.64      0.41        39\n",
      "          14       0.25      0.06      0.09        53\n",
      "\n",
      "    accuracy                           0.33       600\n",
      "   macro avg       0.33      0.35      0.28       600\n",
      "weighted avg       0.32      0.33      0.26       600\n",
      "\n"
     ]
    },
    {
     "name": "stderr",
     "output_type": "stream",
     "text": [
      "/Users/jonathanhaller/miniforge3/envs/tf_mac_env/lib/python3.9/site-packages/sklearn/metrics/_classification.py:1318: UndefinedMetricWarning: Precision and F-score are ill-defined and being set to 0.0 in labels with no predicted samples. Use `zero_division` parameter to control this behavior.\n",
      "  _warn_prf(average, modifier, msg_start, len(result))\n",
      "/Users/jonathanhaller/miniforge3/envs/tf_mac_env/lib/python3.9/site-packages/sklearn/metrics/_classification.py:1318: UndefinedMetricWarning: Precision and F-score are ill-defined and being set to 0.0 in labels with no predicted samples. Use `zero_division` parameter to control this behavior.\n",
      "  _warn_prf(average, modifier, msg_start, len(result))\n",
      "/Users/jonathanhaller/miniforge3/envs/tf_mac_env/lib/python3.9/site-packages/sklearn/metrics/_classification.py:1318: UndefinedMetricWarning: Precision and F-score are ill-defined and being set to 0.0 in labels with no predicted samples. Use `zero_division` parameter to control this behavior.\n",
      "  _warn_prf(average, modifier, msg_start, len(result))\n"
     ]
    }
   ],
   "source": [
    "print(classification_report(np.argmax(y_test,axis=1), np.argmax(model.predict(X_test), axis=1)))"
   ]
  }
 ],
 "metadata": {
  "kernelspec": {
   "display_name": "Python [conda env:tf_mac_env] *",
   "language": "python",
   "name": "conda-env-tf_mac_env-py"
  },
  "language_info": {
   "codemirror_mode": {
    "name": "ipython",
    "version": 3
   },
   "file_extension": ".py",
   "mimetype": "text/x-python",
   "name": "python",
   "nbconvert_exporter": "python",
   "pygments_lexer": "ipython3",
   "version": "3.9.16"
  }
 },
 "nbformat": 4,
 "nbformat_minor": 5
}
